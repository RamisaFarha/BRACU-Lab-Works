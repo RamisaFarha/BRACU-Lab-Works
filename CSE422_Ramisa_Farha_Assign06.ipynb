{
  "nbformat": 4,
  "nbformat_minor": 0,
  "metadata": {
    "colab": {
      "provenance": [],
      "toc_visible": true
    },
    "kernelspec": {
      "name": "python3",
      "display_name": "Python 3"
    }
  },
  "cells": [
    {
      "cell_type": "code",
      "metadata": {
        "id": "1FzUGKOFhQ1o"
      },
      "source": [
        "import numpy as np\n",
        "import pandas as pd\n",
        "import sklearn"
      ],
      "execution_count": null,
      "outputs": []
    },
    {
      "cell_type": "code",
      "metadata": {
        "id": "IGQ3FKlKhZfY"
      },
      "source": [
        "df=pd.read_csv('/content/breast cancer classification dataset.csv')"
      ],
      "execution_count": null,
      "outputs": []
    },
    {
      "cell_type": "code",
      "metadata": {
        "colab": {
          "base_uri": "https://localhost:8080/",
          "height": 386
        },
        "id": "p9rOBKKEiu_G",
        "outputId": "18bc6d40-c7e7-4ab8-c5a5-a2937bb15b64"
      },
      "source": [
        "df.head(10)"
      ],
      "execution_count": null,
      "outputs": [
        {
          "output_type": "execute_result",
          "data": {
            "text/html": [
              "<div>\n",
              "<style scoped>\n",
              "    .dataframe tbody tr th:only-of-type {\n",
              "        vertical-align: middle;\n",
              "    }\n",
              "\n",
              "    .dataframe tbody tr th {\n",
              "        vertical-align: top;\n",
              "    }\n",
              "\n",
              "    .dataframe thead th {\n",
              "        text-align: right;\n",
              "    }\n",
              "</style>\n",
              "<table border=\"1\" class=\"dataframe\">\n",
              "  <thead>\n",
              "    <tr style=\"text-align: right;\">\n",
              "      <th></th>\n",
              "      <th>id</th>\n",
              "      <th>diagnosis</th>\n",
              "      <th>radius_mean</th>\n",
              "      <th>texture_mean</th>\n",
              "      <th>perimeter_mean</th>\n",
              "      <th>area_mean</th>\n",
              "      <th>smoothness_mean</th>\n",
              "      <th>compactness_mean</th>\n",
              "      <th>concavity_mean</th>\n",
              "      <th>concave points_mean</th>\n",
              "      <th>symmetry_mean</th>\n",
              "      <th>fractal_dimension_mean</th>\n",
              "      <th>radius_se</th>\n",
              "      <th>texture_se</th>\n",
              "      <th>perimeter_se</th>\n",
              "      <th>area_se</th>\n",
              "      <th>smoothness_se</th>\n",
              "      <th>compactness_se</th>\n",
              "      <th>concavity_se</th>\n",
              "      <th>concave points_se</th>\n",
              "      <th>symmetry_se</th>\n",
              "      <th>fractal_dimension_se</th>\n",
              "      <th>radius_worst</th>\n",
              "      <th>texture_worst</th>\n",
              "      <th>perimeter_worst</th>\n",
              "      <th>area_worst</th>\n",
              "      <th>smoothness_worst</th>\n",
              "      <th>compactness_worst</th>\n",
              "      <th>concavity_worst</th>\n",
              "      <th>concave points_worst</th>\n",
              "      <th>symmetry_worst</th>\n",
              "      <th>fractal_dimension_worst</th>\n",
              "      <th>Unnamed: 32</th>\n",
              "    </tr>\n",
              "  </thead>\n",
              "  <tbody>\n",
              "    <tr>\n",
              "      <th>0</th>\n",
              "      <td>842302</td>\n",
              "      <td>M</td>\n",
              "      <td>NaN</td>\n",
              "      <td>10.38</td>\n",
              "      <td>122.80</td>\n",
              "      <td>1001.0</td>\n",
              "      <td>0.11840</td>\n",
              "      <td>0.27760</td>\n",
              "      <td>0.30010</td>\n",
              "      <td>0.14710</td>\n",
              "      <td>0.2419</td>\n",
              "      <td>0.07871</td>\n",
              "      <td>1.0950</td>\n",
              "      <td>0.9053</td>\n",
              "      <td>8.589</td>\n",
              "      <td>153.40</td>\n",
              "      <td>0.006399</td>\n",
              "      <td>0.04904</td>\n",
              "      <td>0.05373</td>\n",
              "      <td>0.01587</td>\n",
              "      <td>0.03003</td>\n",
              "      <td>0.006193</td>\n",
              "      <td>25.38</td>\n",
              "      <td>17.33</td>\n",
              "      <td>184.60</td>\n",
              "      <td>2019.0</td>\n",
              "      <td>0.1622</td>\n",
              "      <td>0.6656</td>\n",
              "      <td>0.7119</td>\n",
              "      <td>0.2654</td>\n",
              "      <td>0.4601</td>\n",
              "      <td>0.11890</td>\n",
              "      <td>NaN</td>\n",
              "    </tr>\n",
              "    <tr>\n",
              "      <th>1</th>\n",
              "      <td>842517</td>\n",
              "      <td>M</td>\n",
              "      <td>20.57</td>\n",
              "      <td>17.77</td>\n",
              "      <td>132.90</td>\n",
              "      <td>1326.0</td>\n",
              "      <td>0.08474</td>\n",
              "      <td>0.07864</td>\n",
              "      <td>0.08690</td>\n",
              "      <td>0.07017</td>\n",
              "      <td>0.1812</td>\n",
              "      <td>0.05667</td>\n",
              "      <td>0.5435</td>\n",
              "      <td>0.7339</td>\n",
              "      <td>3.398</td>\n",
              "      <td>74.08</td>\n",
              "      <td>0.005225</td>\n",
              "      <td>0.01308</td>\n",
              "      <td>0.01860</td>\n",
              "      <td>0.01340</td>\n",
              "      <td>0.01389</td>\n",
              "      <td>0.003532</td>\n",
              "      <td>24.99</td>\n",
              "      <td>23.41</td>\n",
              "      <td>158.80</td>\n",
              "      <td>1956.0</td>\n",
              "      <td>0.1238</td>\n",
              "      <td>0.1866</td>\n",
              "      <td>0.2416</td>\n",
              "      <td>0.1860</td>\n",
              "      <td>0.2750</td>\n",
              "      <td>NaN</td>\n",
              "      <td>NaN</td>\n",
              "    </tr>\n",
              "    <tr>\n",
              "      <th>2</th>\n",
              "      <td>84300903</td>\n",
              "      <td>M</td>\n",
              "      <td>19.69</td>\n",
              "      <td>21.25</td>\n",
              "      <td>130.00</td>\n",
              "      <td>1203.0</td>\n",
              "      <td>0.10960</td>\n",
              "      <td>0.15990</td>\n",
              "      <td>0.19740</td>\n",
              "      <td>0.12790</td>\n",
              "      <td>0.2069</td>\n",
              "      <td>0.05999</td>\n",
              "      <td>0.7456</td>\n",
              "      <td>0.7869</td>\n",
              "      <td>4.585</td>\n",
              "      <td>94.03</td>\n",
              "      <td>0.006150</td>\n",
              "      <td>0.04006</td>\n",
              "      <td>0.03832</td>\n",
              "      <td>0.02058</td>\n",
              "      <td>0.02250</td>\n",
              "      <td>0.004571</td>\n",
              "      <td>23.57</td>\n",
              "      <td>25.53</td>\n",
              "      <td>152.50</td>\n",
              "      <td>1709.0</td>\n",
              "      <td>0.1444</td>\n",
              "      <td>0.4245</td>\n",
              "      <td>0.4504</td>\n",
              "      <td>0.2430</td>\n",
              "      <td>0.3613</td>\n",
              "      <td>0.08758</td>\n",
              "      <td>NaN</td>\n",
              "    </tr>\n",
              "    <tr>\n",
              "      <th>3</th>\n",
              "      <td>84348301</td>\n",
              "      <td>M</td>\n",
              "      <td>11.42</td>\n",
              "      <td>20.38</td>\n",
              "      <td>77.58</td>\n",
              "      <td>386.1</td>\n",
              "      <td>0.14250</td>\n",
              "      <td>0.28390</td>\n",
              "      <td>0.24140</td>\n",
              "      <td>0.10520</td>\n",
              "      <td>0.2597</td>\n",
              "      <td>0.09744</td>\n",
              "      <td>0.4956</td>\n",
              "      <td>1.1560</td>\n",
              "      <td>3.445</td>\n",
              "      <td>27.23</td>\n",
              "      <td>0.009110</td>\n",
              "      <td>0.07458</td>\n",
              "      <td>0.05661</td>\n",
              "      <td>0.01867</td>\n",
              "      <td>0.05963</td>\n",
              "      <td>0.009208</td>\n",
              "      <td>14.91</td>\n",
              "      <td>26.50</td>\n",
              "      <td>98.87</td>\n",
              "      <td>567.7</td>\n",
              "      <td>0.2098</td>\n",
              "      <td>0.8663</td>\n",
              "      <td>0.6869</td>\n",
              "      <td>0.2575</td>\n",
              "      <td>0.6638</td>\n",
              "      <td>0.17300</td>\n",
              "      <td>NaN</td>\n",
              "    </tr>\n",
              "    <tr>\n",
              "      <th>4</th>\n",
              "      <td>84358402</td>\n",
              "      <td>M</td>\n",
              "      <td>20.29</td>\n",
              "      <td>14.34</td>\n",
              "      <td>135.10</td>\n",
              "      <td>1297.0</td>\n",
              "      <td>0.10030</td>\n",
              "      <td>0.13280</td>\n",
              "      <td>0.19800</td>\n",
              "      <td>0.10430</td>\n",
              "      <td>0.1809</td>\n",
              "      <td>0.05883</td>\n",
              "      <td>0.7572</td>\n",
              "      <td>0.7813</td>\n",
              "      <td>5.438</td>\n",
              "      <td>94.44</td>\n",
              "      <td>0.011490</td>\n",
              "      <td>0.02461</td>\n",
              "      <td>0.05688</td>\n",
              "      <td>0.01885</td>\n",
              "      <td>0.01756</td>\n",
              "      <td>0.005115</td>\n",
              "      <td>22.54</td>\n",
              "      <td>16.67</td>\n",
              "      <td>152.20</td>\n",
              "      <td>1575.0</td>\n",
              "      <td>0.1374</td>\n",
              "      <td>0.2050</td>\n",
              "      <td>0.4000</td>\n",
              "      <td>0.1625</td>\n",
              "      <td>0.2364</td>\n",
              "      <td>0.07678</td>\n",
              "      <td>NaN</td>\n",
              "    </tr>\n",
              "    <tr>\n",
              "      <th>5</th>\n",
              "      <td>843786</td>\n",
              "      <td>M</td>\n",
              "      <td>12.45</td>\n",
              "      <td>15.70</td>\n",
              "      <td>82.57</td>\n",
              "      <td>477.1</td>\n",
              "      <td>0.12780</td>\n",
              "      <td>0.17000</td>\n",
              "      <td>0.15780</td>\n",
              "      <td>0.08089</td>\n",
              "      <td>0.2087</td>\n",
              "      <td>0.07613</td>\n",
              "      <td>0.3345</td>\n",
              "      <td>0.8902</td>\n",
              "      <td>2.217</td>\n",
              "      <td>27.19</td>\n",
              "      <td>0.007510</td>\n",
              "      <td>0.03345</td>\n",
              "      <td>0.03672</td>\n",
              "      <td>0.01137</td>\n",
              "      <td>0.02165</td>\n",
              "      <td>0.005082</td>\n",
              "      <td>15.47</td>\n",
              "      <td>23.75</td>\n",
              "      <td>103.40</td>\n",
              "      <td>741.6</td>\n",
              "      <td>0.1791</td>\n",
              "      <td>0.5249</td>\n",
              "      <td>0.5355</td>\n",
              "      <td>0.1741</td>\n",
              "      <td>0.3985</td>\n",
              "      <td>0.12440</td>\n",
              "      <td>NaN</td>\n",
              "    </tr>\n",
              "    <tr>\n",
              "      <th>6</th>\n",
              "      <td>844359</td>\n",
              "      <td>M</td>\n",
              "      <td>18.25</td>\n",
              "      <td>19.98</td>\n",
              "      <td>119.60</td>\n",
              "      <td>1040.0</td>\n",
              "      <td>0.09463</td>\n",
              "      <td>0.10900</td>\n",
              "      <td>0.11270</td>\n",
              "      <td>0.07400</td>\n",
              "      <td>0.1794</td>\n",
              "      <td>0.05742</td>\n",
              "      <td>0.4467</td>\n",
              "      <td>0.7732</td>\n",
              "      <td>3.180</td>\n",
              "      <td>53.91</td>\n",
              "      <td>0.004314</td>\n",
              "      <td>0.01382</td>\n",
              "      <td>0.02254</td>\n",
              "      <td>0.01039</td>\n",
              "      <td>0.01369</td>\n",
              "      <td>0.002179</td>\n",
              "      <td>22.88</td>\n",
              "      <td>27.66</td>\n",
              "      <td>153.20</td>\n",
              "      <td>1606.0</td>\n",
              "      <td>0.1442</td>\n",
              "      <td>0.2576</td>\n",
              "      <td>0.3784</td>\n",
              "      <td>0.1932</td>\n",
              "      <td>0.3063</td>\n",
              "      <td>0.08368</td>\n",
              "      <td>NaN</td>\n",
              "    </tr>\n",
              "    <tr>\n",
              "      <th>7</th>\n",
              "      <td>84458202</td>\n",
              "      <td>M</td>\n",
              "      <td>13.71</td>\n",
              "      <td>20.83</td>\n",
              "      <td>90.20</td>\n",
              "      <td>577.9</td>\n",
              "      <td>0.11890</td>\n",
              "      <td>0.16450</td>\n",
              "      <td>0.09366</td>\n",
              "      <td>0.05985</td>\n",
              "      <td>0.2196</td>\n",
              "      <td>0.07451</td>\n",
              "      <td>0.5835</td>\n",
              "      <td>1.3770</td>\n",
              "      <td>3.856</td>\n",
              "      <td>50.96</td>\n",
              "      <td>0.008805</td>\n",
              "      <td>0.03029</td>\n",
              "      <td>0.02488</td>\n",
              "      <td>0.01448</td>\n",
              "      <td>0.01486</td>\n",
              "      <td>0.005412</td>\n",
              "      <td>17.06</td>\n",
              "      <td>28.14</td>\n",
              "      <td>110.60</td>\n",
              "      <td>897.0</td>\n",
              "      <td>0.1654</td>\n",
              "      <td>0.3682</td>\n",
              "      <td>0.2678</td>\n",
              "      <td>0.1556</td>\n",
              "      <td>0.3196</td>\n",
              "      <td>0.11510</td>\n",
              "      <td>NaN</td>\n",
              "    </tr>\n",
              "    <tr>\n",
              "      <th>8</th>\n",
              "      <td>844981</td>\n",
              "      <td>M</td>\n",
              "      <td>13.00</td>\n",
              "      <td>21.82</td>\n",
              "      <td>87.50</td>\n",
              "      <td>519.8</td>\n",
              "      <td>0.12730</td>\n",
              "      <td>0.19320</td>\n",
              "      <td>0.18590</td>\n",
              "      <td>0.09353</td>\n",
              "      <td>0.2350</td>\n",
              "      <td>0.07389</td>\n",
              "      <td>0.3063</td>\n",
              "      <td>1.0020</td>\n",
              "      <td>2.406</td>\n",
              "      <td>24.32</td>\n",
              "      <td>0.005731</td>\n",
              "      <td>0.03502</td>\n",
              "      <td>0.03553</td>\n",
              "      <td>0.01226</td>\n",
              "      <td>0.02143</td>\n",
              "      <td>0.003749</td>\n",
              "      <td>15.49</td>\n",
              "      <td>30.73</td>\n",
              "      <td>106.20</td>\n",
              "      <td>739.3</td>\n",
              "      <td>0.1703</td>\n",
              "      <td>0.5401</td>\n",
              "      <td>0.5390</td>\n",
              "      <td>0.2060</td>\n",
              "      <td>0.4378</td>\n",
              "      <td>0.10720</td>\n",
              "      <td>NaN</td>\n",
              "    </tr>\n",
              "    <tr>\n",
              "      <th>9</th>\n",
              "      <td>84501001</td>\n",
              "      <td>M</td>\n",
              "      <td>12.46</td>\n",
              "      <td>24.04</td>\n",
              "      <td>83.97</td>\n",
              "      <td>475.9</td>\n",
              "      <td>0.11860</td>\n",
              "      <td>0.23960</td>\n",
              "      <td>0.22730</td>\n",
              "      <td>0.08543</td>\n",
              "      <td>0.2030</td>\n",
              "      <td>0.08243</td>\n",
              "      <td>0.2976</td>\n",
              "      <td>1.5990</td>\n",
              "      <td>2.039</td>\n",
              "      <td>23.94</td>\n",
              "      <td>0.007149</td>\n",
              "      <td>0.07217</td>\n",
              "      <td>0.07743</td>\n",
              "      <td>0.01432</td>\n",
              "      <td>0.01789</td>\n",
              "      <td>0.010080</td>\n",
              "      <td>15.09</td>\n",
              "      <td>40.68</td>\n",
              "      <td>97.65</td>\n",
              "      <td>711.4</td>\n",
              "      <td>0.1853</td>\n",
              "      <td>1.0580</td>\n",
              "      <td>1.1050</td>\n",
              "      <td>0.2210</td>\n",
              "      <td>0.4366</td>\n",
              "      <td>0.20750</td>\n",
              "      <td>NaN</td>\n",
              "    </tr>\n",
              "  </tbody>\n",
              "</table>\n",
              "</div>"
            ],
            "text/plain": [
              "         id diagnosis  ...  fractal_dimension_worst  Unnamed: 32\n",
              "0    842302         M  ...                  0.11890          NaN\n",
              "1    842517         M  ...                      NaN          NaN\n",
              "2  84300903         M  ...                  0.08758          NaN\n",
              "3  84348301         M  ...                  0.17300          NaN\n",
              "4  84358402         M  ...                  0.07678          NaN\n",
              "5    843786         M  ...                  0.12440          NaN\n",
              "6    844359         M  ...                  0.08368          NaN\n",
              "7  84458202         M  ...                  0.11510          NaN\n",
              "8    844981         M  ...                  0.10720          NaN\n",
              "9  84501001         M  ...                  0.20750          NaN\n",
              "\n",
              "[10 rows x 33 columns]"
            ]
          },
          "metadata": {
            "tags": []
          },
          "execution_count": 3
        }
      ]
    },
    {
      "cell_type": "code",
      "metadata": {
        "colab": {
          "base_uri": "https://localhost:8080/"
        },
        "id": "zz2nCd-SjIhw",
        "outputId": "81078dc4-6c7a-45d4-870e-4c9eccc1c3a6"
      },
      "source": [
        "df.shape"
      ],
      "execution_count": null,
      "outputs": [
        {
          "output_type": "execute_result",
          "data": {
            "text/plain": [
              "(569, 33)"
            ]
          },
          "metadata": {
            "tags": []
          },
          "execution_count": 4
        }
      ]
    },
    {
      "cell_type": "code",
      "metadata": {
        "colab": {
          "base_uri": "https://localhost:8080/"
        },
        "id": "6tAWgl8Qiyp5",
        "outputId": "072e2f4d-42fd-4f68-db82-387b5d7125fa"
      },
      "source": [
        "df.isnull().sum()"
      ],
      "execution_count": null,
      "outputs": [
        {
          "output_type": "execute_result",
          "data": {
            "text/plain": [
              "id                           0\n",
              "diagnosis                    0\n",
              "radius_mean                  9\n",
              "texture_mean                 0\n",
              "perimeter_mean               0\n",
              "area_mean                    0\n",
              "smoothness_mean              0\n",
              "compactness_mean             0\n",
              "concavity_mean               0\n",
              "concave points_mean          0\n",
              "symmetry_mean                0\n",
              "fractal_dimension_mean       0\n",
              "radius_se                    0\n",
              "texture_se                   0\n",
              "perimeter_se                 0\n",
              "area_se                      0\n",
              "smoothness_se                0\n",
              "compactness_se               0\n",
              "concavity_se                 0\n",
              "concave points_se            0\n",
              "symmetry_se                  0\n",
              "fractal_dimension_se         0\n",
              "radius_worst                 0\n",
              "texture_worst                0\n",
              "perimeter_worst              0\n",
              "area_worst                   0\n",
              "smoothness_worst             0\n",
              "compactness_worst            0\n",
              "concavity_worst              0\n",
              "concave points_worst         0\n",
              "symmetry_worst               0\n",
              "fractal_dimension_worst      8\n",
              "Unnamed: 32                569\n",
              "dtype: int64"
            ]
          },
          "metadata": {
            "tags": []
          },
          "execution_count": 5
        }
      ]
    },
    {
      "cell_type": "code",
      "metadata": {
        "id": "CDeKvqPyO8wJ"
      },
      "source": [
        "df.drop(\"Unnamed: 32\",axis=1,inplace=True)"
      ],
      "execution_count": null,
      "outputs": []
    },
    {
      "cell_type": "markdown",
      "metadata": {
        "id": "CFzI_gvcD2OG"
      },
      "source": [
        "# New Section"
      ]
    },
    {
      "cell_type": "code",
      "metadata": {
        "id": "OoPmrsW7j1pe"
      },
      "source": [
        "from sklearn.impute import SimpleImputer\n",
        "imp_mean = SimpleImputer(missing_values=np.nan, strategy='mean')\n",
        "imp_mean.fit(df[['radius_mean']])\n",
        "df['radius_mean']=imp_mean.transform(df[['radius_mean']])"
      ],
      "execution_count": null,
      "outputs": []
    },
    {
      "cell_type": "code",
      "metadata": {
        "id": "c3h4bUZZkX6V"
      },
      "source": [
        "imp_mean.fit(df[['fractal_dimension_worst']])\n",
        "df['fractal_dimension_worst']=imp_mean.transform(df[['fractal_dimension_worst']])"
      ],
      "execution_count": null,
      "outputs": []
    },
    {
      "cell_type": "code",
      "metadata": {
        "colab": {
          "base_uri": "https://localhost:8080/"
        },
        "id": "DJ9R3RBikoSI",
        "outputId": "5c64732f-438f-4cfe-ca43-326e0273a5e1"
      },
      "source": [
        "df['diagnosis'].unique()"
      ],
      "execution_count": null,
      "outputs": [
        {
          "output_type": "execute_result",
          "data": {
            "text/plain": [
              "array(['M', 'B'], dtype=object)"
            ]
          },
          "metadata": {
            "tags": []
          },
          "execution_count": 9
        }
      ]
    },
    {
      "cell_type": "code",
      "metadata": {
        "id": "i7Zs3gtKqmzr"
      },
      "source": [
        "df['diagnosis_Encoded'] = df['diagnosis'].map( {'B':1, 'M':0}) #B=1 and M=0"
      ],
      "execution_count": null,
      "outputs": []
    },
    {
      "cell_type": "code",
      "metadata": {
        "colab": {
          "base_uri": "https://localhost:8080/",
          "height": 1000
        },
        "id": "YSJg2Y0JQLRt",
        "outputId": "8cdd6b01-1aaf-414d-96d7-23ba7ee28f04"
      },
      "source": [
        "from pandas.plotting import scatter_matrix\n",
        "scatter_matrix(df[['radius_mean','texture_mean','perimeter_mean','concavity_mean']],c=df['diagnosis'],figsize=(12,12),alpha=1)"
      ],
      "execution_count": null,
      "outputs": [
        {
          "output_type": "stream",
          "text": [
            "/usr/local/lib/python3.6/dist-packages/pandas/plotting/_matplotlib/misc.py:77: MatplotlibDeprecationWarning: Support for uppercase single-letter colors is deprecated since Matplotlib 3.1 and will be removed in 3.3; please use lowercase instead.\n",
            "  df[b][common], df[a][common], marker=marker, alpha=alpha, **kwds\n"
          ],
          "name": "stderr"
        },
        {
          "output_type": "execute_result",
          "data": {
            "text/plain": [
              "array([[<matplotlib.axes._subplots.AxesSubplot object at 0x7f34d8fb77f0>,\n",
              "        <matplotlib.axes._subplots.AxesSubplot object at 0x7f34d8f91a90>,\n",
              "        <matplotlib.axes._subplots.AxesSubplot object at 0x7f34d8f48cf8>,\n",
              "        <matplotlib.axes._subplots.AxesSubplot object at 0x7f34d8efdf60>],\n",
              "       [<matplotlib.axes._subplots.AxesSubplot object at 0x7f34d8ebb208>,\n",
              "        <matplotlib.axes._subplots.AxesSubplot object at 0x7f34d8e6f470>,\n",
              "        <matplotlib.axes._subplots.AxesSubplot object at 0x7f34d8ea26d8>,\n",
              "        <matplotlib.axes._subplots.AxesSubplot object at 0x7f34d8e55908>],\n",
              "       [<matplotlib.axes._subplots.AxesSubplot object at 0x7f34d8e55978>,\n",
              "        <matplotlib.axes._subplots.AxesSubplot object at 0x7f34d8dbee10>,\n",
              "        <matplotlib.axes._subplots.AxesSubplot object at 0x7f34d8d7e0b8>,\n",
              "        <matplotlib.axes._subplots.AxesSubplot object at 0x7f34d8d32320>],\n",
              "       [<matplotlib.axes._subplots.AxesSubplot object at 0x7f34d8d64588>,\n",
              "        <matplotlib.axes._subplots.AxesSubplot object at 0x7f34d8d177f0>,\n",
              "        <matplotlib.axes._subplots.AxesSubplot object at 0x7f34d8cc9a58>,\n",
              "        <matplotlib.axes._subplots.AxesSubplot object at 0x7f34d8c7ecc0>]],\n",
              "      dtype=object)"
            ]
          },
          "metadata": {
            "tags": []
          },
          "execution_count": 11
        },
        {
          "output_type": "display_data",
          "data": {
            "image/png": "[encoded data removed]",
            "text/plain": [
              "<Figure size 864x864 with 16 Axes>"
            ]
          },
          "metadata": {
            "tags": [],
            "needs_background": "light"
          }
        }
      ]
    },
    {
      "cell_type": "code",
      "metadata": {
        "id": "Oix2fF7IqyeS"
      },
      "source": [
        "df.drop('diagnosis',axis=1,inplace=True)"
      ],
      "execution_count": null,
      "outputs": []
    },
    {
      "cell_type": "code",
      "metadata": {
        "id": "frG74ZuCvd6d"
      },
      "source": [
        "df_columns=list(df.columns.values)"
      ],
      "execution_count": null,
      "outputs": []
    },
    {
      "cell_type": "code",
      "metadata": {
        "id": "-AmwptkHsrKR"
      },
      "source": [
        "from sklearn import preprocessing\n",
        "\n",
        "x = df.values \n",
        "min_max_scaler = preprocessing.MinMaxScaler()\n",
        "x_scaled = min_max_scaler.fit_transform(x)\n",
        "df = pd.DataFrame(x_scaled)"
      ],
      "execution_count": null,
      "outputs": []
    },
    {
      "cell_type": "code",
      "metadata": {
        "id": "kXqMjoNZvPiA"
      },
      "source": [
        "df.columns=df_columns"
      ],
      "execution_count": null,
      "outputs": []
    },
    {
      "cell_type": "code",
      "metadata": {
        "colab": {
          "base_uri": "https://localhost:8080/",
          "height": 445
        },
        "id": "06mgjPdiw1o9",
        "outputId": "165149bb-716c-48b4-b093-283807afee7c"
      },
      "source": [
        "df"
      ],
      "execution_count": null,
      "outputs": [
        {
          "output_type": "execute_result",
          "data": {
            "text/html": [
              "<div>\n",
              "<style scoped>\n",
              "    .dataframe tbody tr th:only-of-type {\n",
              "        vertical-align: middle;\n",
              "    }\n",
              "\n",
              "    .dataframe tbody tr th {\n",
              "        vertical-align: top;\n",
              "    }\n",
              "\n",
              "    .dataframe thead th {\n",
              "        text-align: right;\n",
              "    }\n",
              "</style>\n",
              "<table border=\"1\" class=\"dataframe\">\n",
              "  <thead>\n",
              "    <tr style=\"text-align: right;\">\n",
              "      <th></th>\n",
              "      <th>id</th>\n",
              "      <th>radius_mean</th>\n",
              "      <th>texture_mean</th>\n",
              "      <th>perimeter_mean</th>\n",
              "      <th>area_mean</th>\n",
              "      <th>smoothness_mean</th>\n",
              "      <th>compactness_mean</th>\n",
              "      <th>concavity_mean</th>\n",
              "      <th>concave points_mean</th>\n",
              "      <th>symmetry_mean</th>\n",
              "      <th>fractal_dimension_mean</th>\n",
              "      <th>radius_se</th>\n",
              "      <th>texture_se</th>\n",
              "      <th>perimeter_se</th>\n",
              "      <th>area_se</th>\n",
              "      <th>smoothness_se</th>\n",
              "      <th>compactness_se</th>\n",
              "      <th>concavity_se</th>\n",
              "      <th>concave points_se</th>\n",
              "      <th>symmetry_se</th>\n",
              "      <th>fractal_dimension_se</th>\n",
              "      <th>radius_worst</th>\n",
              "      <th>texture_worst</th>\n",
              "      <th>perimeter_worst</th>\n",
              "      <th>area_worst</th>\n",
              "      <th>smoothness_worst</th>\n",
              "      <th>compactness_worst</th>\n",
              "      <th>concavity_worst</th>\n",
              "      <th>concave points_worst</th>\n",
              "      <th>symmetry_worst</th>\n",
              "      <th>fractal_dimension_worst</th>\n",
              "      <th>diagnosis_Encoded</th>\n",
              "    </tr>\n",
              "  </thead>\n",
              "  <tbody>\n",
              "    <tr>\n",
              "      <th>0</th>\n",
              "      <td>0.000915</td>\n",
              "      <td>0.336528</td>\n",
              "      <td>0.022658</td>\n",
              "      <td>0.545989</td>\n",
              "      <td>0.363733</td>\n",
              "      <td>0.593753</td>\n",
              "      <td>0.792037</td>\n",
              "      <td>0.703140</td>\n",
              "      <td>0.731113</td>\n",
              "      <td>0.686364</td>\n",
              "      <td>0.605518</td>\n",
              "      <td>0.356147</td>\n",
              "      <td>0.120469</td>\n",
              "      <td>0.369034</td>\n",
              "      <td>0.273811</td>\n",
              "      <td>0.159296</td>\n",
              "      <td>0.351398</td>\n",
              "      <td>0.135682</td>\n",
              "      <td>0.300625</td>\n",
              "      <td>0.311645</td>\n",
              "      <td>0.183042</td>\n",
              "      <td>0.620776</td>\n",
              "      <td>0.141525</td>\n",
              "      <td>0.668310</td>\n",
              "      <td>0.450698</td>\n",
              "      <td>0.601136</td>\n",
              "      <td>0.619292</td>\n",
              "      <td>0.568610</td>\n",
              "      <td>0.912027</td>\n",
              "      <td>0.598462</td>\n",
              "      <td>0.418864</td>\n",
              "      <td>0.0</td>\n",
              "    </tr>\n",
              "    <tr>\n",
              "      <th>1</th>\n",
              "      <td>0.000915</td>\n",
              "      <td>0.643144</td>\n",
              "      <td>0.272574</td>\n",
              "      <td>0.615783</td>\n",
              "      <td>0.501591</td>\n",
              "      <td>0.289880</td>\n",
              "      <td>0.181768</td>\n",
              "      <td>0.203608</td>\n",
              "      <td>0.348757</td>\n",
              "      <td>0.379798</td>\n",
              "      <td>0.141323</td>\n",
              "      <td>0.156437</td>\n",
              "      <td>0.082589</td>\n",
              "      <td>0.124440</td>\n",
              "      <td>0.125660</td>\n",
              "      <td>0.119387</td>\n",
              "      <td>0.081323</td>\n",
              "      <td>0.046970</td>\n",
              "      <td>0.253836</td>\n",
              "      <td>0.084539</td>\n",
              "      <td>0.091110</td>\n",
              "      <td>0.606901</td>\n",
              "      <td>0.303571</td>\n",
              "      <td>0.539818</td>\n",
              "      <td>0.435214</td>\n",
              "      <td>0.347553</td>\n",
              "      <td>0.154563</td>\n",
              "      <td>0.192971</td>\n",
              "      <td>0.639175</td>\n",
              "      <td>0.233590</td>\n",
              "      <td>0.190078</td>\n",
              "      <td>0.0</td>\n",
              "    </tr>\n",
              "    <tr>\n",
              "      <th>2</th>\n",
              "      <td>0.092495</td>\n",
              "      <td>0.601496</td>\n",
              "      <td>0.390260</td>\n",
              "      <td>0.595743</td>\n",
              "      <td>0.449417</td>\n",
              "      <td>0.514309</td>\n",
              "      <td>0.431017</td>\n",
              "      <td>0.462512</td>\n",
              "      <td>0.635686</td>\n",
              "      <td>0.509596</td>\n",
              "      <td>0.211247</td>\n",
              "      <td>0.229622</td>\n",
              "      <td>0.094303</td>\n",
              "      <td>0.180370</td>\n",
              "      <td>0.162922</td>\n",
              "      <td>0.150831</td>\n",
              "      <td>0.283955</td>\n",
              "      <td>0.096768</td>\n",
              "      <td>0.389847</td>\n",
              "      <td>0.205690</td>\n",
              "      <td>0.127006</td>\n",
              "      <td>0.556386</td>\n",
              "      <td>0.360075</td>\n",
              "      <td>0.508442</td>\n",
              "      <td>0.374508</td>\n",
              "      <td>0.483590</td>\n",
              "      <td>0.385375</td>\n",
              "      <td>0.359744</td>\n",
              "      <td>0.835052</td>\n",
              "      <td>0.403706</td>\n",
              "      <td>0.213433</td>\n",
              "      <td>0.0</td>\n",
              "    </tr>\n",
              "    <tr>\n",
              "      <th>3</th>\n",
              "      <td>0.092547</td>\n",
              "      <td>0.210090</td>\n",
              "      <td>0.360839</td>\n",
              "      <td>0.233501</td>\n",
              "      <td>0.102906</td>\n",
              "      <td>0.811321</td>\n",
              "      <td>0.811361</td>\n",
              "      <td>0.565604</td>\n",
              "      <td>0.522863</td>\n",
              "      <td>0.776263</td>\n",
              "      <td>1.000000</td>\n",
              "      <td>0.139091</td>\n",
              "      <td>0.175875</td>\n",
              "      <td>0.126655</td>\n",
              "      <td>0.038155</td>\n",
              "      <td>0.251453</td>\n",
              "      <td>0.543215</td>\n",
              "      <td>0.142955</td>\n",
              "      <td>0.353665</td>\n",
              "      <td>0.728148</td>\n",
              "      <td>0.287205</td>\n",
              "      <td>0.248310</td>\n",
              "      <td>0.385928</td>\n",
              "      <td>0.241347</td>\n",
              "      <td>0.094008</td>\n",
              "      <td>0.915472</td>\n",
              "      <td>0.814012</td>\n",
              "      <td>0.548642</td>\n",
              "      <td>0.884880</td>\n",
              "      <td>1.000000</td>\n",
              "      <td>0.773711</td>\n",
              "      <td>0.0</td>\n",
              "    </tr>\n",
              "    <tr>\n",
              "      <th>4</th>\n",
              "      <td>0.092559</td>\n",
              "      <td>0.629893</td>\n",
              "      <td>0.156578</td>\n",
              "      <td>0.630986</td>\n",
              "      <td>0.489290</td>\n",
              "      <td>0.430351</td>\n",
              "      <td>0.347893</td>\n",
              "      <td>0.463918</td>\n",
              "      <td>0.518390</td>\n",
              "      <td>0.378283</td>\n",
              "      <td>0.186816</td>\n",
              "      <td>0.233822</td>\n",
              "      <td>0.093065</td>\n",
              "      <td>0.220563</td>\n",
              "      <td>0.163688</td>\n",
              "      <td>0.332359</td>\n",
              "      <td>0.167918</td>\n",
              "      <td>0.143636</td>\n",
              "      <td>0.357075</td>\n",
              "      <td>0.136179</td>\n",
              "      <td>0.145800</td>\n",
              "      <td>0.519744</td>\n",
              "      <td>0.123934</td>\n",
              "      <td>0.506948</td>\n",
              "      <td>0.341575</td>\n",
              "      <td>0.437364</td>\n",
              "      <td>0.172415</td>\n",
              "      <td>0.319489</td>\n",
              "      <td>0.558419</td>\n",
              "      <td>0.157500</td>\n",
              "      <td>0.142595</td>\n",
              "      <td>0.0</td>\n",
              "    </tr>\n",
              "    <tr>\n",
              "      <th>...</th>\n",
              "      <td>...</td>\n",
              "      <td>...</td>\n",
              "      <td>...</td>\n",
              "      <td>...</td>\n",
              "      <td>...</td>\n",
              "      <td>...</td>\n",
              "      <td>...</td>\n",
              "      <td>...</td>\n",
              "      <td>...</td>\n",
              "      <td>...</td>\n",
              "      <td>...</td>\n",
              "      <td>...</td>\n",
              "      <td>...</td>\n",
              "      <td>...</td>\n",
              "      <td>...</td>\n",
              "      <td>...</td>\n",
              "      <td>...</td>\n",
              "      <td>...</td>\n",
              "      <td>...</td>\n",
              "      <td>...</td>\n",
              "      <td>...</td>\n",
              "      <td>...</td>\n",
              "      <td>...</td>\n",
              "      <td>...</td>\n",
              "      <td>...</td>\n",
              "      <td>...</td>\n",
              "      <td>...</td>\n",
              "      <td>...</td>\n",
              "      <td>...</td>\n",
              "      <td>...</td>\n",
              "      <td>...</td>\n",
              "      <td>...</td>\n",
              "    </tr>\n",
              "    <tr>\n",
              "      <th>564</th>\n",
              "      <td>0.001007</td>\n",
              "      <td>0.690000</td>\n",
              "      <td>0.428813</td>\n",
              "      <td>0.678668</td>\n",
              "      <td>0.566490</td>\n",
              "      <td>0.526948</td>\n",
              "      <td>0.296055</td>\n",
              "      <td>0.571462</td>\n",
              "      <td>0.690358</td>\n",
              "      <td>0.336364</td>\n",
              "      <td>0.132056</td>\n",
              "      <td>0.385479</td>\n",
              "      <td>0.197976</td>\n",
              "      <td>0.325873</td>\n",
              "      <td>0.283710</td>\n",
              "      <td>0.291906</td>\n",
              "      <td>0.200213</td>\n",
              "      <td>0.131263</td>\n",
              "      <td>0.464861</td>\n",
              "      <td>0.045843</td>\n",
              "      <td>0.115536</td>\n",
              "      <td>0.623266</td>\n",
              "      <td>0.383262</td>\n",
              "      <td>0.576174</td>\n",
              "      <td>0.452664</td>\n",
              "      <td>0.461137</td>\n",
              "      <td>0.178527</td>\n",
              "      <td>0.328035</td>\n",
              "      <td>0.761512</td>\n",
              "      <td>0.097575</td>\n",
              "      <td>0.105667</td>\n",
              "      <td>0.0</td>\n",
              "    </tr>\n",
              "    <tr>\n",
              "      <th>565</th>\n",
              "      <td>0.001007</td>\n",
              "      <td>0.622320</td>\n",
              "      <td>0.626987</td>\n",
              "      <td>0.604036</td>\n",
              "      <td>0.474019</td>\n",
              "      <td>0.407782</td>\n",
              "      <td>0.257714</td>\n",
              "      <td>0.337395</td>\n",
              "      <td>0.486630</td>\n",
              "      <td>0.349495</td>\n",
              "      <td>0.113100</td>\n",
              "      <td>0.236828</td>\n",
              "      <td>0.464728</td>\n",
              "      <td>0.209490</td>\n",
              "      <td>0.172279</td>\n",
              "      <td>0.137879</td>\n",
              "      <td>0.165064</td>\n",
              "      <td>0.099747</td>\n",
              "      <td>0.317863</td>\n",
              "      <td>0.156160</td>\n",
              "      <td>0.055387</td>\n",
              "      <td>0.560655</td>\n",
              "      <td>0.699094</td>\n",
              "      <td>0.520892</td>\n",
              "      <td>0.379915</td>\n",
              "      <td>0.300007</td>\n",
              "      <td>0.159997</td>\n",
              "      <td>0.256789</td>\n",
              "      <td>0.559450</td>\n",
              "      <td>0.198502</td>\n",
              "      <td>0.190078</td>\n",
              "      <td>0.0</td>\n",
              "    </tr>\n",
              "    <tr>\n",
              "      <th>566</th>\n",
              "      <td>0.001008</td>\n",
              "      <td>0.455251</td>\n",
              "      <td>0.621238</td>\n",
              "      <td>0.445788</td>\n",
              "      <td>0.303118</td>\n",
              "      <td>0.288165</td>\n",
              "      <td>0.254340</td>\n",
              "      <td>0.216753</td>\n",
              "      <td>0.263519</td>\n",
              "      <td>0.267677</td>\n",
              "      <td>0.137321</td>\n",
              "      <td>0.124896</td>\n",
              "      <td>0.157974</td>\n",
              "      <td>0.125713</td>\n",
              "      <td>0.077976</td>\n",
              "      <td>0.142435</td>\n",
              "      <td>0.263301</td>\n",
              "      <td>0.119444</td>\n",
              "      <td>0.294942</td>\n",
              "      <td>0.074548</td>\n",
              "      <td>0.103547</td>\n",
              "      <td>0.393099</td>\n",
              "      <td>0.589019</td>\n",
              "      <td>0.379949</td>\n",
              "      <td>0.230731</td>\n",
              "      <td>0.282177</td>\n",
              "      <td>0.273705</td>\n",
              "      <td>0.271805</td>\n",
              "      <td>0.487285</td>\n",
              "      <td>0.128721</td>\n",
              "      <td>0.151909</td>\n",
              "      <td>0.0</td>\n",
              "    </tr>\n",
              "    <tr>\n",
              "      <th>567</th>\n",
              "      <td>0.001008</td>\n",
              "      <td>0.644564</td>\n",
              "      <td>0.663510</td>\n",
              "      <td>0.665538</td>\n",
              "      <td>0.475716</td>\n",
              "      <td>0.588336</td>\n",
              "      <td>0.790197</td>\n",
              "      <td>0.823336</td>\n",
              "      <td>0.755467</td>\n",
              "      <td>0.675253</td>\n",
              "      <td>0.425442</td>\n",
              "      <td>0.222524</td>\n",
              "      <td>0.272896</td>\n",
              "      <td>0.236300</td>\n",
              "      <td>0.148335</td>\n",
              "      <td>0.163477</td>\n",
              "      <td>0.445579</td>\n",
              "      <td>0.179722</td>\n",
              "      <td>0.315211</td>\n",
              "      <td>0.216103</td>\n",
              "      <td>0.182766</td>\n",
              "      <td>0.633582</td>\n",
              "      <td>0.730277</td>\n",
              "      <td>0.668310</td>\n",
              "      <td>0.402035</td>\n",
              "      <td>0.619626</td>\n",
              "      <td>0.815758</td>\n",
              "      <td>0.749760</td>\n",
              "      <td>0.910653</td>\n",
              "      <td>0.497142</td>\n",
              "      <td>0.452315</td>\n",
              "      <td>0.0</td>\n",
              "    </tr>\n",
              "    <tr>\n",
              "      <th>568</th>\n",
              "      <td>0.000092</td>\n",
              "      <td>0.036869</td>\n",
              "      <td>0.501522</td>\n",
              "      <td>0.028540</td>\n",
              "      <td>0.015907</td>\n",
              "      <td>0.000000</td>\n",
              "      <td>0.074351</td>\n",
              "      <td>0.000000</td>\n",
              "      <td>0.000000</td>\n",
              "      <td>0.266162</td>\n",
              "      <td>0.187026</td>\n",
              "      <td>0.099294</td>\n",
              "      <td>0.235988</td>\n",
              "      <td>0.084390</td>\n",
              "      <td>0.023063</td>\n",
              "      <td>0.186151</td>\n",
              "      <td>0.018085</td>\n",
              "      <td>0.000000</td>\n",
              "      <td>0.000000</td>\n",
              "      <td>0.265633</td>\n",
              "      <td>0.065234</td>\n",
              "      <td>0.054287</td>\n",
              "      <td>0.489072</td>\n",
              "      <td>0.043578</td>\n",
              "      <td>0.020497</td>\n",
              "      <td>0.124084</td>\n",
              "      <td>0.036043</td>\n",
              "      <td>0.000000</td>\n",
              "      <td>0.000000</td>\n",
              "      <td>0.257441</td>\n",
              "      <td>0.100682</td>\n",
              "      <td>1.0</td>\n",
              "    </tr>\n",
              "  </tbody>\n",
              "</table>\n",
              "<p>569 rows × 32 columns</p>\n",
              "</div>"
            ],
            "text/plain": [
              "           id  radius_mean  ...  fractal_dimension_worst  diagnosis_Encoded\n",
              "0    0.000915     0.336528  ...                 0.418864                0.0\n",
              "1    0.000915     0.643144  ...                 0.190078                0.0\n",
              "2    0.092495     0.601496  ...                 0.213433                0.0\n",
              "3    0.092547     0.210090  ...                 0.773711                0.0\n",
              "4    0.092559     0.629893  ...                 0.142595                0.0\n",
              "..        ...          ...  ...                      ...                ...\n",
              "564  0.001007     0.690000  ...                 0.105667                0.0\n",
              "565  0.001007     0.622320  ...                 0.190078                0.0\n",
              "566  0.001008     0.455251  ...                 0.151909                0.0\n",
              "567  0.001008     0.644564  ...                 0.452315                0.0\n",
              "568  0.000092     0.036869  ...                 0.100682                1.0\n",
              "\n",
              "[569 rows x 32 columns]"
            ]
          },
          "metadata": {
            "tags": []
          },
          "execution_count": 16
        }
      ]
    },
    {
      "cell_type": "code",
      "metadata": {
        "id": "9bQuAswjv7eW"
      },
      "source": [
        "df_target=df['diagnosis_Encoded']\n",
        "df_target=df_target.to_numpy().astype('int')"
      ],
      "execution_count": null,
      "outputs": []
    },
    {
      "cell_type": "code",
      "metadata": {
        "id": "_5RnMbqCywkG"
      },
      "source": [
        "df.drop('diagnosis_Encoded',axis=1,inplace=True)"
      ],
      "execution_count": null,
      "outputs": []
    },
    {
      "cell_type": "code",
      "metadata": {
        "colab": {
          "base_uri": "https://localhost:8080/"
        },
        "id": "_IGDgTLiwQxe",
        "outputId": "840d5258-7fc2-4e60-db6e-b90196ae7e41"
      },
      "source": [
        "from sklearn.model_selection import train_test_split\n",
        "import matplotlib.pyplot as plt\n",
        "import seaborn as sns\n",
        "from sklearn.linear_model import LogisticRegression\n",
        "from sklearn.metrics import classification_report\n",
        "from sklearn.metrics import accuracy_score\n",
        "X_train, X_test, y_train, y_test = train_test_split(df, df_target,test_size=.2,random_state=1)\n",
        "print(X_train.shape)\n",
        "print(X_test.shape)"
      ],
      "execution_count": null,
      "outputs": [
        {
          "output_type": "stream",
          "text": [
            "(455, 31)\n",
            "(114, 31)\n"
          ],
          "name": "stdout"
        }
      ]
    },
    {
      "cell_type": "code",
      "metadata": {
        "id": "nyp05E_PIHDb"
      },
      "source": [
        "from sklearn.svm import SVC\n",
        "svc=SVC(kernel='linear')\n",
        "svc.fit(X_train,y_train)\n",
        "v0=svc.score(X_test,y_test)"
      ],
      "execution_count": null,
      "outputs": []
    },
    {
      "cell_type": "code",
      "metadata": {
        "colab": {
          "base_uri": "https://localhost:8080/"
        },
        "id": "RXxpspT6I3YU",
        "outputId": "0ba8c2cc-80b6-4f2c-e7b5-072181388b58"
      },
      "source": [
        "print(\"Test accuracy SVC {:.2f}\".format(svc.score(X_train,y_train)))\n",
        "print(\"Test accuracy SVC {:.2f}\".format(svc.score(X_test,y_test)))"
      ],
      "execution_count": null,
      "outputs": [
        {
          "output_type": "stream",
          "text": [
            "Test accuracy SVC 0.98\n",
            "Test accuracy SVC 0.97\n"
          ],
          "name": "stdout"
        }
      ]
    },
    {
      "cell_type": "code",
      "metadata": {
        "colab": {
          "base_uri": "https://localhost:8080/"
        },
        "id": "CzMnLMi0J9XB",
        "outputId": "0d45ecd2-13b2-4997-cf80-dac28e3c3158"
      },
      "source": [
        "from sklearn.metrics import confusion_matrix\n",
        "matrix=confusion_matrix(svc.predict(X_test),y_test)\n",
        "print(matrix)"
      ],
      "execution_count": null,
      "outputs": [
        {
          "output_type": "stream",
          "text": [
            "[[39  0]\n",
            " [ 3 72]]\n"
          ],
          "name": "stdout"
        }
      ]
    },
    {
      "cell_type": "code",
      "metadata": {
        "colab": {
          "base_uri": "https://localhost:8080/"
        },
        "id": "QIOEAGjgKu-J",
        "outputId": "dededdc3-bcfc-4e68-c726-18c12cc8a938"
      },
      "source": [
        "from sklearn.ensemble import RandomForestClassifier\n",
        "forest=RandomForestClassifier(n_estimators=30)\n",
        "forest.fit(X_train,y_train)\n",
        "v2=forest.score(X_test,y_test)\n",
        "print(\"Test accuracy RandomForest {:.2f}\".format(forest.score(X_train,y_train)))\n",
        "print(\"Test accuracy RandomForest {:.2f}\".format(forest.score(X_test,y_test)))"
      ],
      "execution_count": null,
      "outputs": [
        {
          "output_type": "stream",
          "text": [
            "Test accuracy RandomForest 1.00\n",
            "Test accuracy RandomForest 0.95\n"
          ],
          "name": "stdout"
        }
      ]
    },
    {
      "cell_type": "code",
      "metadata": {
        "colab": {
          "base_uri": "https://localhost:8080/"
        },
        "id": "VRcoF9eSNgqT",
        "outputId": "14c4410f-3400-4eef-f62d-0e4dd1faadc3"
      },
      "source": [
        "matrix2=confusion_matrix(forest.predict(X_test),y_test)\n",
        "print(matrix2)"
      ],
      "execution_count": null,
      "outputs": [
        {
          "output_type": "stream",
          "text": [
            "[[39  1]\n",
            " [ 3 71]]\n"
          ],
          "name": "stdout"
        }
      ]
    },
    {
      "cell_type": "code",
      "metadata": {
        "colab": {
          "base_uri": "https://localhost:8080/"
        },
        "id": "cy2LOEFZOnb6",
        "outputId": "33f5542c-f363-4224-f632-61844e392be3"
      },
      "source": [
        "from sklearn.neural_network import MLPClassifier\n",
        "neural = MLPClassifier(hidden_layer_sizes=(32,64,32),activation='relu',max_iter=1000)\n",
        "neural.fit(X_train,y_train)\n",
        "v5=forest.score(X_test,y_test)\n",
        "print(\"Train accuracy Neural {:.2f}\".format(forest.score(X_train,y_train)))\n",
        "print(\"Test accuracy Neural {:.2f}\".format(forest.score(X_test,y_test)))"
      ],
      "execution_count": null,
      "outputs": [
        {
          "output_type": "stream",
          "text": [
            "Train accuracy Neural 1.00\n",
            "Test accuracy Neural 0.95\n"
          ],
          "name": "stdout"
        }
      ]
    },
    {
      "cell_type": "code",
      "metadata": {
        "colab": {
          "base_uri": "https://localhost:8080/"
        },
        "id": "spo-TUVlSbp7",
        "outputId": "8ea78f3f-72e4-42a6-9085-17c09481d7ce"
      },
      "source": [
        "matrix3=confusion_matrix(neural.predict(X_test),y_test)\n",
        "print(matrix3)"
      ],
      "execution_count": null,
      "outputs": [
        {
          "output_type": "stream",
          "text": [
            "[[37  0]\n",
            " [ 5 72]]\n"
          ],
          "name": "stdout"
        }
      ]
    },
    {
      "cell_type": "code",
      "metadata": {
        "id": "hlfDlcWOU4gT"
      },
      "source": [
        "\n",
        "from sklearn.decomposition import PCA\n",
        "pca=PCA(n_components=15)"
      ],
      "execution_count": null,
      "outputs": []
    },
    {
      "cell_type": "code",
      "metadata": {
        "id": "kOjflw-0VYCL"
      },
      "source": [
        "Principal_Comp=pca.fit_transform(df)"
      ],
      "execution_count": null,
      "outputs": []
    },
    {
      "cell_type": "code",
      "metadata": {
        "colab": {
          "base_uri": "https://localhost:8080/"
        },
        "id": "1br4qgRMVsep",
        "outputId": "8e3c5110-4eb4-4de2-a6d8-d20b9c0dd068"
      },
      "source": [
        "print(Principal_Comp)"
      ],
      "execution_count": null,
      "outputs": [
        {
          "output_type": "stream",
          "text": [
            "[[ 1.34520919  0.47120729 -0.53192327 ...  0.05354764 -0.05203896\n",
            "  -0.15271241]\n",
            " [ 0.45640274 -0.56560161 -0.21154515 ... -0.13009122  0.15578679\n",
            "  -0.05239219]\n",
            " [ 0.95528859 -0.11488571 -0.14627274 ...  0.05966107  0.01389699\n",
            "  -0.02059285]\n",
            " ...\n",
            " [ 0.22525107 -0.28851113  0.31079163 ...  0.06058509 -0.04176057\n",
            "   0.02945588]\n",
            " [ 1.67882332  0.33063238  0.28594781 ... -0.01096112 -0.1521768\n",
            "  -0.01533436]\n",
            " [-0.90442204 -0.10160918  0.38258528 ...  0.13162144  0.01025607\n",
            "  -0.21210931]]\n"
          ],
          "name": "stdout"
        }
      ]
    },
    {
      "cell_type": "code",
      "metadata": {
        "colab": {
          "base_uri": "https://localhost:8080/"
        },
        "id": "AHk_T03qV2Bv",
        "outputId": "3707d681-13fa-4461-c9dd-8b5c9a37d2d6"
      },
      "source": [
        "pca.explained_variance_ratio_"
      ],
      "execution_count": null,
      "outputs": [
        {
          "output_type": "execute_result",
          "data": {
            "text/plain": [
              "array([0.51412981, 0.16769135, 0.06930458, 0.06253899, 0.03973574,\n",
              "       0.03165378, 0.02757146, 0.01529431, 0.01123693, 0.00935979,\n",
              "       0.00922153, 0.00826681, 0.00740886, 0.00639625, 0.00467007])"
            ]
          },
          "metadata": {
            "tags": []
          },
          "execution_count": 73
        }
      ]
    },
    {
      "cell_type": "code",
      "metadata": {
        "colab": {
          "base_uri": "https://localhost:8080/",
          "height": 428
        },
        "id": "pg39kF9TV6b-",
        "outputId": "f8f9a62d-3ae3-4073-c733-46408ff41f51"
      },
      "source": [
        "pdf=pd.DataFrame(data=Principal_Comp)\n",
        "pdf"
      ],
      "execution_count": null,
      "outputs": [
        {
          "output_type": "execute_result",
          "data": {
            "text/html": [
              "<div>\n",
              "<style scoped>\n",
              "    .dataframe tbody tr th:only-of-type {\n",
              "        vertical-align: middle;\n",
              "    }\n",
              "\n",
              "    .dataframe tbody tr th {\n",
              "        vertical-align: top;\n",
              "    }\n",
              "\n",
              "    .dataframe thead th {\n",
              "        text-align: right;\n",
              "    }\n",
              "</style>\n",
              "<table border=\"1\" class=\"dataframe\">\n",
              "  <thead>\n",
              "    <tr style=\"text-align: right;\">\n",
              "      <th></th>\n",
              "      <th>0</th>\n",
              "      <th>1</th>\n",
              "      <th>2</th>\n",
              "      <th>3</th>\n",
              "      <th>4</th>\n",
              "      <th>5</th>\n",
              "      <th>6</th>\n",
              "      <th>7</th>\n",
              "      <th>8</th>\n",
              "      <th>9</th>\n",
              "      <th>10</th>\n",
              "      <th>11</th>\n",
              "      <th>12</th>\n",
              "      <th>13</th>\n",
              "      <th>14</th>\n",
              "    </tr>\n",
              "  </thead>\n",
              "  <tbody>\n",
              "    <tr>\n",
              "      <th>0</th>\n",
              "      <td>1.345209</td>\n",
              "      <td>0.471207</td>\n",
              "      <td>-0.531923</td>\n",
              "      <td>0.057615</td>\n",
              "      <td>-0.069531</td>\n",
              "      <td>-0.142086</td>\n",
              "      <td>0.122031</td>\n",
              "      <td>0.232961</td>\n",
              "      <td>-0.026318</td>\n",
              "      <td>0.172927</td>\n",
              "      <td>0.138887</td>\n",
              "      <td>0.104332</td>\n",
              "      <td>0.053548</td>\n",
              "      <td>-0.052039</td>\n",
              "      <td>-0.152712</td>\n",
              "    </tr>\n",
              "    <tr>\n",
              "      <th>1</th>\n",
              "      <td>0.456403</td>\n",
              "      <td>-0.565602</td>\n",
              "      <td>-0.211545</td>\n",
              "      <td>-0.034008</td>\n",
              "      <td>0.013714</td>\n",
              "      <td>-0.038101</td>\n",
              "      <td>-0.015980</td>\n",
              "      <td>0.033153</td>\n",
              "      <td>0.021678</td>\n",
              "      <td>-0.121011</td>\n",
              "      <td>-0.009880</td>\n",
              "      <td>0.067272</td>\n",
              "      <td>-0.130091</td>\n",
              "      <td>0.155787</td>\n",
              "      <td>-0.052392</td>\n",
              "    </tr>\n",
              "    <tr>\n",
              "      <th>2</th>\n",
              "      <td>0.955289</td>\n",
              "      <td>-0.114886</td>\n",
              "      <td>-0.146273</td>\n",
              "      <td>0.008075</td>\n",
              "      <td>-0.035250</td>\n",
              "      <td>-0.020722</td>\n",
              "      <td>0.080150</td>\n",
              "      <td>-0.111585</td>\n",
              "      <td>-0.009400</td>\n",
              "      <td>-0.087323</td>\n",
              "      <td>-0.027539</td>\n",
              "      <td>0.039995</td>\n",
              "      <td>0.059661</td>\n",
              "      <td>0.013897</td>\n",
              "      <td>-0.020593</td>\n",
              "    </tr>\n",
              "    <tr>\n",
              "      <th>3</th>\n",
              "      <td>1.007340</td>\n",
              "      <td>1.518578</td>\n",
              "      <td>-0.052780</td>\n",
              "      <td>-0.198997</td>\n",
              "      <td>-0.221093</td>\n",
              "      <td>-0.219119</td>\n",
              "      <td>0.340496</td>\n",
              "      <td>0.186593</td>\n",
              "      <td>0.166559</td>\n",
              "      <td>0.045686</td>\n",
              "      <td>-0.191073</td>\n",
              "      <td>0.154895</td>\n",
              "      <td>0.204233</td>\n",
              "      <td>0.132906</td>\n",
              "      <td>-0.025812</td>\n",
              "    </tr>\n",
              "    <tr>\n",
              "      <th>4</th>\n",
              "      <td>0.626228</td>\n",
              "      <td>-0.305965</td>\n",
              "      <td>-0.398939</td>\n",
              "      <td>0.257737</td>\n",
              "      <td>-0.006205</td>\n",
              "      <td>0.146161</td>\n",
              "      <td>-0.070243</td>\n",
              "      <td>-0.065611</td>\n",
              "      <td>0.038761</td>\n",
              "      <td>0.000284</td>\n",
              "      <td>-0.018884</td>\n",
              "      <td>-0.126632</td>\n",
              "      <td>-0.073148</td>\n",
              "      <td>0.030346</td>\n",
              "      <td>-0.058377</td>\n",
              "    </tr>\n",
              "    <tr>\n",
              "      <th>...</th>\n",
              "      <td>...</td>\n",
              "      <td>...</td>\n",
              "      <td>...</td>\n",
              "      <td>...</td>\n",
              "      <td>...</td>\n",
              "      <td>...</td>\n",
              "      <td>...</td>\n",
              "      <td>...</td>\n",
              "      <td>...</td>\n",
              "      <td>...</td>\n",
              "      <td>...</td>\n",
              "      <td>...</td>\n",
              "      <td>...</td>\n",
              "      <td>...</td>\n",
              "      <td>...</td>\n",
              "    </tr>\n",
              "    <tr>\n",
              "      <th>564</th>\n",
              "      <td>1.000873</td>\n",
              "      <td>-0.477055</td>\n",
              "      <td>-0.095964</td>\n",
              "      <td>0.272951</td>\n",
              "      <td>-0.083235</td>\n",
              "      <td>0.179559</td>\n",
              "      <td>-0.257464</td>\n",
              "      <td>-0.127442</td>\n",
              "      <td>-0.010652</td>\n",
              "      <td>-0.036036</td>\n",
              "      <td>0.137815</td>\n",
              "      <td>-0.054613</td>\n",
              "      <td>0.037262</td>\n",
              "      <td>0.035698</td>\n",
              "      <td>-0.035764</td>\n",
              "    </tr>\n",
              "    <tr>\n",
              "      <th>565</th>\n",
              "      <td>0.629707</td>\n",
              "      <td>-0.488913</td>\n",
              "      <td>0.401951</td>\n",
              "      <td>0.141561</td>\n",
              "      <td>-0.072751</td>\n",
              "      <td>-0.046389</td>\n",
              "      <td>-0.127052</td>\n",
              "      <td>-0.034460</td>\n",
              "      <td>-0.088877</td>\n",
              "      <td>0.040056</td>\n",
              "      <td>-0.016288</td>\n",
              "      <td>0.059795</td>\n",
              "      <td>-0.048053</td>\n",
              "      <td>0.064083</td>\n",
              "      <td>0.023272</td>\n",
              "    </tr>\n",
              "    <tr>\n",
              "      <th>566</th>\n",
              "      <td>0.225251</td>\n",
              "      <td>-0.288511</td>\n",
              "      <td>0.310792</td>\n",
              "      <td>-0.026236</td>\n",
              "      <td>0.220193</td>\n",
              "      <td>0.033312</td>\n",
              "      <td>-0.083418</td>\n",
              "      <td>-0.029881</td>\n",
              "      <td>0.006211</td>\n",
              "      <td>-0.135812</td>\n",
              "      <td>0.010629</td>\n",
              "      <td>-0.021245</td>\n",
              "      <td>0.060585</td>\n",
              "      <td>-0.041761</td>\n",
              "      <td>0.029456</td>\n",
              "    </tr>\n",
              "    <tr>\n",
              "      <th>567</th>\n",
              "      <td>1.678823</td>\n",
              "      <td>0.330632</td>\n",
              "      <td>0.285948</td>\n",
              "      <td>-0.171529</td>\n",
              "      <td>0.074334</td>\n",
              "      <td>-0.121053</td>\n",
              "      <td>0.024453</td>\n",
              "      <td>0.074275</td>\n",
              "      <td>-0.072124</td>\n",
              "      <td>0.076737</td>\n",
              "      <td>-0.071088</td>\n",
              "      <td>-0.124179</td>\n",
              "      <td>-0.010961</td>\n",
              "      <td>-0.152177</td>\n",
              "      <td>-0.015334</td>\n",
              "    </tr>\n",
              "    <tr>\n",
              "      <th>568</th>\n",
              "      <td>-0.904422</td>\n",
              "      <td>-0.101609</td>\n",
              "      <td>0.382585</td>\n",
              "      <td>0.052034</td>\n",
              "      <td>0.077238</td>\n",
              "      <td>-0.165488</td>\n",
              "      <td>0.114773</td>\n",
              "      <td>0.119882</td>\n",
              "      <td>0.030133</td>\n",
              "      <td>0.052450</td>\n",
              "      <td>0.102727</td>\n",
              "      <td>-0.082414</td>\n",
              "      <td>0.131621</td>\n",
              "      <td>0.010256</td>\n",
              "      <td>-0.212109</td>\n",
              "    </tr>\n",
              "  </tbody>\n",
              "</table>\n",
              "<p>569 rows × 15 columns</p>\n",
              "</div>"
            ],
            "text/plain": [
              "           0         1         2   ...        12        13        14\n",
              "0    1.345209  0.471207 -0.531923  ...  0.053548 -0.052039 -0.152712\n",
              "1    0.456403 -0.565602 -0.211545  ... -0.130091  0.155787 -0.052392\n",
              "2    0.955289 -0.114886 -0.146273  ...  0.059661  0.013897 -0.020593\n",
              "3    1.007340  1.518578 -0.052780  ...  0.204233  0.132906 -0.025812\n",
              "4    0.626228 -0.305965 -0.398939  ... -0.073148  0.030346 -0.058377\n",
              "..        ...       ...       ...  ...       ...       ...       ...\n",
              "564  1.000873 -0.477055 -0.095964  ...  0.037262  0.035698 -0.035764\n",
              "565  0.629707 -0.488913  0.401951  ... -0.048053  0.064083  0.023272\n",
              "566  0.225251 -0.288511  0.310792  ...  0.060585 -0.041761  0.029456\n",
              "567  1.678823  0.330632  0.285948  ... -0.010961 -0.152177 -0.015334\n",
              "568 -0.904422 -0.101609  0.382585  ...  0.131621  0.010256 -0.212109\n",
              "\n",
              "[569 rows x 15 columns]"
            ]
          },
          "metadata": {
            "tags": []
          },
          "execution_count": 75
        }
      ]
    },
    {
      "cell_type": "code",
      "metadata": {
        "colab": {
          "base_uri": "https://localhost:8080/",
          "height": 408
        },
        "id": "ZBfmX5cvZFsP",
        "outputId": "1ba8ad76-35b2-446d-df58-4ce11e90e1ed"
      },
      "source": [
        "s=pd.DataFrame(df_target)\n",
        "s.drop(labels=0,axis=1)\n",
        "s"
      ],
      "execution_count": null,
      "outputs": [
        {
          "output_type": "execute_result",
          "data": {
            "text/html": [
              "<div>\n",
              "<style scoped>\n",
              "    .dataframe tbody tr th:only-of-type {\n",
              "        vertical-align: middle;\n",
              "    }\n",
              "\n",
              "    .dataframe tbody tr th {\n",
              "        vertical-align: top;\n",
              "    }\n",
              "\n",
              "    .dataframe thead th {\n",
              "        text-align: right;\n",
              "    }\n",
              "</style>\n",
              "<table border=\"1\" class=\"dataframe\">\n",
              "  <thead>\n",
              "    <tr style=\"text-align: right;\">\n",
              "      <th></th>\n",
              "      <th>0</th>\n",
              "    </tr>\n",
              "  </thead>\n",
              "  <tbody>\n",
              "    <tr>\n",
              "      <th>0</th>\n",
              "      <td>0</td>\n",
              "    </tr>\n",
              "    <tr>\n",
              "      <th>1</th>\n",
              "      <td>0</td>\n",
              "    </tr>\n",
              "    <tr>\n",
              "      <th>2</th>\n",
              "      <td>0</td>\n",
              "    </tr>\n",
              "    <tr>\n",
              "      <th>3</th>\n",
              "      <td>0</td>\n",
              "    </tr>\n",
              "    <tr>\n",
              "      <th>4</th>\n",
              "      <td>0</td>\n",
              "    </tr>\n",
              "    <tr>\n",
              "      <th>...</th>\n",
              "      <td>...</td>\n",
              "    </tr>\n",
              "    <tr>\n",
              "      <th>564</th>\n",
              "      <td>0</td>\n",
              "    </tr>\n",
              "    <tr>\n",
              "      <th>565</th>\n",
              "      <td>0</td>\n",
              "    </tr>\n",
              "    <tr>\n",
              "      <th>566</th>\n",
              "      <td>0</td>\n",
              "    </tr>\n",
              "    <tr>\n",
              "      <th>567</th>\n",
              "      <td>0</td>\n",
              "    </tr>\n",
              "    <tr>\n",
              "      <th>568</th>\n",
              "      <td>1</td>\n",
              "    </tr>\n",
              "  </tbody>\n",
              "</table>\n",
              "<p>569 rows × 1 columns</p>\n",
              "</div>"
            ],
            "text/plain": [
              "     0\n",
              "0    0\n",
              "1    0\n",
              "2    0\n",
              "3    0\n",
              "4    0\n",
              "..  ..\n",
              "564  0\n",
              "565  0\n",
              "566  0\n",
              "567  0\n",
              "568  1\n",
              "\n",
              "[569 rows x 1 columns]"
            ]
          },
          "metadata": {
            "tags": []
          },
          "execution_count": 76
        }
      ]
    },
    {
      "cell_type": "code",
      "metadata": {
        "colab": {
          "base_uri": "https://localhost:8080/",
          "height": 428
        },
        "id": "VMjNvgVUcMd4",
        "outputId": "d735e0a8-3d4d-47ce-ceea-d0d5d1a0e7fa"
      },
      "source": [
        "main=pd.concat([pdf,s],axis=1)\n",
        "main"
      ],
      "execution_count": null,
      "outputs": [
        {
          "output_type": "execute_result",
          "data": {
            "text/html": [
              "<div>\n",
              "<style scoped>\n",
              "    .dataframe tbody tr th:only-of-type {\n",
              "        vertical-align: middle;\n",
              "    }\n",
              "\n",
              "    .dataframe tbody tr th {\n",
              "        vertical-align: top;\n",
              "    }\n",
              "\n",
              "    .dataframe thead th {\n",
              "        text-align: right;\n",
              "    }\n",
              "</style>\n",
              "<table border=\"1\" class=\"dataframe\">\n",
              "  <thead>\n",
              "    <tr style=\"text-align: right;\">\n",
              "      <th></th>\n",
              "      <th>0</th>\n",
              "      <th>1</th>\n",
              "      <th>2</th>\n",
              "      <th>3</th>\n",
              "      <th>4</th>\n",
              "      <th>5</th>\n",
              "      <th>6</th>\n",
              "      <th>7</th>\n",
              "      <th>8</th>\n",
              "      <th>9</th>\n",
              "      <th>10</th>\n",
              "      <th>11</th>\n",
              "      <th>12</th>\n",
              "      <th>13</th>\n",
              "      <th>14</th>\n",
              "      <th>0</th>\n",
              "    </tr>\n",
              "  </thead>\n",
              "  <tbody>\n",
              "    <tr>\n",
              "      <th>0</th>\n",
              "      <td>1.345209</td>\n",
              "      <td>0.471207</td>\n",
              "      <td>-0.531923</td>\n",
              "      <td>0.057615</td>\n",
              "      <td>-0.069531</td>\n",
              "      <td>-0.142086</td>\n",
              "      <td>0.122031</td>\n",
              "      <td>0.232961</td>\n",
              "      <td>-0.026318</td>\n",
              "      <td>0.172927</td>\n",
              "      <td>0.138887</td>\n",
              "      <td>0.104332</td>\n",
              "      <td>0.053548</td>\n",
              "      <td>-0.052039</td>\n",
              "      <td>-0.152712</td>\n",
              "      <td>0</td>\n",
              "    </tr>\n",
              "    <tr>\n",
              "      <th>1</th>\n",
              "      <td>0.456403</td>\n",
              "      <td>-0.565602</td>\n",
              "      <td>-0.211545</td>\n",
              "      <td>-0.034008</td>\n",
              "      <td>0.013714</td>\n",
              "      <td>-0.038101</td>\n",
              "      <td>-0.015980</td>\n",
              "      <td>0.033153</td>\n",
              "      <td>0.021678</td>\n",
              "      <td>-0.121011</td>\n",
              "      <td>-0.009880</td>\n",
              "      <td>0.067272</td>\n",
              "      <td>-0.130091</td>\n",
              "      <td>0.155787</td>\n",
              "      <td>-0.052392</td>\n",
              "      <td>0</td>\n",
              "    </tr>\n",
              "    <tr>\n",
              "      <th>2</th>\n",
              "      <td>0.955289</td>\n",
              "      <td>-0.114886</td>\n",
              "      <td>-0.146273</td>\n",
              "      <td>0.008075</td>\n",
              "      <td>-0.035250</td>\n",
              "      <td>-0.020722</td>\n",
              "      <td>0.080150</td>\n",
              "      <td>-0.111585</td>\n",
              "      <td>-0.009400</td>\n",
              "      <td>-0.087323</td>\n",
              "      <td>-0.027539</td>\n",
              "      <td>0.039995</td>\n",
              "      <td>0.059661</td>\n",
              "      <td>0.013897</td>\n",
              "      <td>-0.020593</td>\n",
              "      <td>0</td>\n",
              "    </tr>\n",
              "    <tr>\n",
              "      <th>3</th>\n",
              "      <td>1.007340</td>\n",
              "      <td>1.518578</td>\n",
              "      <td>-0.052780</td>\n",
              "      <td>-0.198997</td>\n",
              "      <td>-0.221093</td>\n",
              "      <td>-0.219119</td>\n",
              "      <td>0.340496</td>\n",
              "      <td>0.186593</td>\n",
              "      <td>0.166559</td>\n",
              "      <td>0.045686</td>\n",
              "      <td>-0.191073</td>\n",
              "      <td>0.154895</td>\n",
              "      <td>0.204233</td>\n",
              "      <td>0.132906</td>\n",
              "      <td>-0.025812</td>\n",
              "      <td>0</td>\n",
              "    </tr>\n",
              "    <tr>\n",
              "      <th>4</th>\n",
              "      <td>0.626228</td>\n",
              "      <td>-0.305965</td>\n",
              "      <td>-0.398939</td>\n",
              "      <td>0.257737</td>\n",
              "      <td>-0.006205</td>\n",
              "      <td>0.146161</td>\n",
              "      <td>-0.070243</td>\n",
              "      <td>-0.065611</td>\n",
              "      <td>0.038761</td>\n",
              "      <td>0.000284</td>\n",
              "      <td>-0.018884</td>\n",
              "      <td>-0.126632</td>\n",
              "      <td>-0.073148</td>\n",
              "      <td>0.030346</td>\n",
              "      <td>-0.058377</td>\n",
              "      <td>0</td>\n",
              "    </tr>\n",
              "    <tr>\n",
              "      <th>...</th>\n",
              "      <td>...</td>\n",
              "      <td>...</td>\n",
              "      <td>...</td>\n",
              "      <td>...</td>\n",
              "      <td>...</td>\n",
              "      <td>...</td>\n",
              "      <td>...</td>\n",
              "      <td>...</td>\n",
              "      <td>...</td>\n",
              "      <td>...</td>\n",
              "      <td>...</td>\n",
              "      <td>...</td>\n",
              "      <td>...</td>\n",
              "      <td>...</td>\n",
              "      <td>...</td>\n",
              "      <td>...</td>\n",
              "    </tr>\n",
              "    <tr>\n",
              "      <th>564</th>\n",
              "      <td>1.000873</td>\n",
              "      <td>-0.477055</td>\n",
              "      <td>-0.095964</td>\n",
              "      <td>0.272951</td>\n",
              "      <td>-0.083235</td>\n",
              "      <td>0.179559</td>\n",
              "      <td>-0.257464</td>\n",
              "      <td>-0.127442</td>\n",
              "      <td>-0.010652</td>\n",
              "      <td>-0.036036</td>\n",
              "      <td>0.137815</td>\n",
              "      <td>-0.054613</td>\n",
              "      <td>0.037262</td>\n",
              "      <td>0.035698</td>\n",
              "      <td>-0.035764</td>\n",
              "      <td>0</td>\n",
              "    </tr>\n",
              "    <tr>\n",
              "      <th>565</th>\n",
              "      <td>0.629707</td>\n",
              "      <td>-0.488913</td>\n",
              "      <td>0.401951</td>\n",
              "      <td>0.141561</td>\n",
              "      <td>-0.072751</td>\n",
              "      <td>-0.046389</td>\n",
              "      <td>-0.127052</td>\n",
              "      <td>-0.034460</td>\n",
              "      <td>-0.088877</td>\n",
              "      <td>0.040056</td>\n",
              "      <td>-0.016288</td>\n",
              "      <td>0.059795</td>\n",
              "      <td>-0.048053</td>\n",
              "      <td>0.064083</td>\n",
              "      <td>0.023272</td>\n",
              "      <td>0</td>\n",
              "    </tr>\n",
              "    <tr>\n",
              "      <th>566</th>\n",
              "      <td>0.225251</td>\n",
              "      <td>-0.288511</td>\n",
              "      <td>0.310792</td>\n",
              "      <td>-0.026236</td>\n",
              "      <td>0.220193</td>\n",
              "      <td>0.033312</td>\n",
              "      <td>-0.083418</td>\n",
              "      <td>-0.029881</td>\n",
              "      <td>0.006211</td>\n",
              "      <td>-0.135812</td>\n",
              "      <td>0.010629</td>\n",
              "      <td>-0.021245</td>\n",
              "      <td>0.060585</td>\n",
              "      <td>-0.041761</td>\n",
              "      <td>0.029456</td>\n",
              "      <td>0</td>\n",
              "    </tr>\n",
              "    <tr>\n",
              "      <th>567</th>\n",
              "      <td>1.678823</td>\n",
              "      <td>0.330632</td>\n",
              "      <td>0.285948</td>\n",
              "      <td>-0.171529</td>\n",
              "      <td>0.074334</td>\n",
              "      <td>-0.121053</td>\n",
              "      <td>0.024453</td>\n",
              "      <td>0.074275</td>\n",
              "      <td>-0.072124</td>\n",
              "      <td>0.076737</td>\n",
              "      <td>-0.071088</td>\n",
              "      <td>-0.124179</td>\n",
              "      <td>-0.010961</td>\n",
              "      <td>-0.152177</td>\n",
              "      <td>-0.015334</td>\n",
              "      <td>0</td>\n",
              "    </tr>\n",
              "    <tr>\n",
              "      <th>568</th>\n",
              "      <td>-0.904422</td>\n",
              "      <td>-0.101609</td>\n",
              "      <td>0.382585</td>\n",
              "      <td>0.052034</td>\n",
              "      <td>0.077238</td>\n",
              "      <td>-0.165488</td>\n",
              "      <td>0.114773</td>\n",
              "      <td>0.119882</td>\n",
              "      <td>0.030133</td>\n",
              "      <td>0.052450</td>\n",
              "      <td>0.102727</td>\n",
              "      <td>-0.082414</td>\n",
              "      <td>0.131621</td>\n",
              "      <td>0.010256</td>\n",
              "      <td>-0.212109</td>\n",
              "      <td>1</td>\n",
              "    </tr>\n",
              "  </tbody>\n",
              "</table>\n",
              "<p>569 rows × 16 columns</p>\n",
              "</div>"
            ],
            "text/plain": [
              "           0         1         2         3   ...        12        13        14  0 \n",
              "0    1.345209  0.471207 -0.531923  0.057615  ...  0.053548 -0.052039 -0.152712   0\n",
              "1    0.456403 -0.565602 -0.211545 -0.034008  ... -0.130091  0.155787 -0.052392   0\n",
              "2    0.955289 -0.114886 -0.146273  0.008075  ...  0.059661  0.013897 -0.020593   0\n",
              "3    1.007340  1.518578 -0.052780 -0.198997  ...  0.204233  0.132906 -0.025812   0\n",
              "4    0.626228 -0.305965 -0.398939  0.257737  ... -0.073148  0.030346 -0.058377   0\n",
              "..        ...       ...       ...       ...  ...       ...       ...       ...  ..\n",
              "564  1.000873 -0.477055 -0.095964  0.272951  ...  0.037262  0.035698 -0.035764   0\n",
              "565  0.629707 -0.488913  0.401951  0.141561  ... -0.048053  0.064083  0.023272   0\n",
              "566  0.225251 -0.288511  0.310792 -0.026236  ...  0.060585 -0.041761  0.029456   0\n",
              "567  1.678823  0.330632  0.285948 -0.171529  ... -0.010961 -0.152177 -0.015334   0\n",
              "568 -0.904422 -0.101609  0.382585  0.052034  ...  0.131621  0.010256 -0.212109   1\n",
              "\n",
              "[569 rows x 16 columns]"
            ]
          },
          "metadata": {
            "tags": []
          },
          "execution_count": 77
        }
      ]
    },
    {
      "cell_type": "code",
      "metadata": {
        "colab": {
          "base_uri": "https://localhost:8080/"
        },
        "id": "AdBCXYDlc-y3",
        "outputId": "06effc36-c71c-40f2-8574-e734fe59187e"
      },
      "source": [
        "x1_train,x1_test,y1_train,y1_test= train_test_split(pdf,df_target,test_size=0.2, random_state=42)\n",
        "print(x1_train.shape)\n",
        "print(x1_test.shape)"
      ],
      "execution_count": null,
      "outputs": [
        {
          "output_type": "stream",
          "text": [
            "(455, 15)\n",
            "(114, 15)\n"
          ],
          "name": "stdout"
        }
      ]
    },
    {
      "cell_type": "code",
      "metadata": {
        "colab": {
          "base_uri": "https://localhost:8080/"
        },
        "id": "fDhA3fHWejCZ",
        "outputId": "27566142-54ff-492e-8970-4065f81e0d95"
      },
      "source": [
        "svc.fit(x1_train,y1_train)\n",
        "v1=svc.score(x1_test,y1_test)\n",
        "print(\"Test accuracy SVC {:.2f}\".format(svc.score(x1_train,y1_train)))\n",
        "print(\"Test accuracy SVC {:.2f}\".format(svc.score(x1_test,y1_test)))"
      ],
      "execution_count": null,
      "outputs": [
        {
          "output_type": "stream",
          "text": [
            "Test accuracy SVC 0.98\n",
            "Test accuracy SVC 0.98\n"
          ],
          "name": "stdout"
        }
      ]
    },
    {
      "cell_type": "code",
      "metadata": {
        "colab": {
          "base_uri": "https://localhost:8080/"
        },
        "id": "bFpLz0OXgQif",
        "outputId": "e79773ac-93c6-4d1a-c8cd-852b513e3ecb"
      },
      "source": [
        "neural.fit(x1_train,y1_train)\n",
        "v4=neural.score(x1_test,y1_test)\n",
        "print(\"Test accuracy neural net {:.2f}\".format(neural.score(x1_train,y1_train)))\n",
        "print(\"Test accuracy neural net {:.2f}\".format(neural.score(x1_test,y1_test)))"
      ],
      "execution_count": null,
      "outputs": [
        {
          "output_type": "stream",
          "text": [
            "Test accuracy neural net 1.00\n",
            "Test accuracy neural net 0.96\n"
          ],
          "name": "stdout"
        }
      ]
    },
    {
      "cell_type": "code",
      "metadata": {
        "colab": {
          "base_uri": "https://localhost:8080/"
        },
        "id": "MEQNNj29hMGv",
        "outputId": "f3793af4-55c4-4311-8c38-cc60e1e7f5c5"
      },
      "source": [
        "forest.fit(x1_train,y1_train)\n",
        "v3=forest.score(x1_test,y1_test)\n",
        "print(\"Test accuracy forest {:.2f}\".format(forest.score(x1_train,y1_train)))\n",
        "print(\"Test accuracy forest {:.2f}\".format(forest.score(x1_test,y1_test)))"
      ],
      "execution_count": null,
      "outputs": [
        {
          "output_type": "stream",
          "text": [
            "Test accuracy forest 1.00\n",
            "Test accuracy forest 0.95\n"
          ],
          "name": "stdout"
        }
      ]
    },
    {
      "cell_type": "code",
      "metadata": {
        "colab": {
          "base_uri": "https://localhost:8080/"
        },
        "id": "UXgBuYeQh4k3",
        "outputId": "908a3859-c9b0-4fa4-d459-d5cbc9d61314"
      },
      "source": [
        "matrix3=confusion_matrix(neural.predict(x1_test),y1_test)\n",
        "print(\"\\n Neural Net\")\n",
        "print(matrix3)\n",
        "matrix3=confusion_matrix(forest.predict(x1_test),y1_test)\n",
        "print(\"\\n Random Forest\")\n",
        "print(matrix3)\n",
        "matrix3=confusion_matrix(svc.predict(x1_test),y1_test)\n",
        "print(\"\\n SVC\")\n",
        "print(matrix3)"
      ],
      "execution_count": null,
      "outputs": [
        {
          "output_type": "stream",
          "text": [
            "\n",
            " Neural Net\n",
            "[[41  2]\n",
            " [ 2 69]]\n",
            "\n",
            " Random Forest\n",
            "[[41  4]\n",
            " [ 2 67]]\n",
            "\n",
            " SVC\n",
            "[[41  0]\n",
            " [ 2 71]]\n"
          ],
          "name": "stdout"
        }
      ]
    },
    {
      "cell_type": "code",
      "metadata": {
        "colab": {
          "base_uri": "https://localhost:8080/",
          "height": 301
        },
        "id": "yam_zGLAiECf",
        "outputId": "c10ef091-9e35-46c4-fa34-a30fe00bbfe9"
      },
      "source": [
        "x_axis = [\"NN\", \"NN(PAC)\",\"RFC\",\"RFC(PAC)\",\"SVC\",\"SVC(PAC)\"]\n",
        "y_axis = [v5*100,v4*100,v2*100,v3*100,v0*100,v1*100]\n",
        "frame= pd.DataFrame(\n",
        "    {'Classifier':x_axis,\n",
        "     'Accuracy': y_axis,\n",
        "    })\n",
        "sns.set_theme(style=\"whitegrid\")\n",
        "plt.title(\"comparison of test cases W/O PAC\")\n",
        "ax = sns.barplot(x=\"Classifier\", y=\"Accuracy\", data=frame,\n",
        "                 palette=\"viridis\",saturation=.5)"
      ],
      "execution_count": null,
      "outputs": [
        {
          "output_type": "display_data",
          "data": {
            "image/png": "[encoded data removed]",
            "text/plain": [
              "<Figure size 432x288 with 1 Axes>"
            ]
          },
          "metadata": {
            "tags": []
          }
        }
      ]
    }
  ]
}